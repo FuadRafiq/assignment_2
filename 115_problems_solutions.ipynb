{
 "cells": [
  {
   "cell_type": "markdown",
   "id": "bf82ce82-aa71-4841-bc4d-29ead7a5894a",
   "metadata": {},
   "source": [
    "### 1. Variable Swap: Write a Python program to swap the values of two variables without using a temporary variable."
   ]
  },
  {
   "cell_type": "code",
   "execution_count": 8,
   "id": "ed9eb7cd-140e-4213-a757-e66a35cba511",
   "metadata": {},
   "outputs": [
    {
     "name": "stdin",
     "output_type": "stream",
     "text": [
      "Enter 1st value : 23\n",
      "Enter 2nd value : 56\n"
     ]
    },
    {
     "name": "stdout",
     "output_type": "stream",
     "text": [
      "Values before swap : x = 23 y = 56\n",
      "Values after swap : x = 56 y = 23\n"
     ]
    }
   ],
   "source": [
    "x = input('Enter 1st value :')\n",
    "y = input('Enter 2nd value :')\n",
    "\n",
    "print(f'Values before swap : x = {x} y = {y}')\n",
    "\n",
    "x,y = y,x\n",
    "\n",
    "print(f'Values after swap : x = {x} y = {y}')"
   ]
  },
  {
   "cell_type": "markdown",
   "id": "d6b5357f-603d-4460-b802-e8d8584c2cc6",
   "metadata": {},
   "source": [
    "### 2. Even or Odd: Write a Python program that takes an integer as input and prints whether it is even or odd."
   ]
  },
  {
   "cell_type": "code",
   "execution_count": 82,
   "id": "6e3de6bf-ef59-4766-9cfb-0e8c853c18ae",
   "metadata": {},
   "outputs": [
    {
     "name": "stdin",
     "output_type": "stream",
     "text": [
      "Enter a number :  45678\n"
     ]
    },
    {
     "name": "stdout",
     "output_type": "stream",
     "text": [
      "even\n"
     ]
    }
   ],
   "source": [
    "even_odd = int(input('Enter a number : '))\n",
    "\n",
    "if (even_odd%2==0):\n",
    "    print('even')\n",
    "else:\n",
    "    print('odd')\n",
    "    \n",
    "#print('Even' if even_odd % 2 == 0 else 'Odd')"
   ]
  },
  {
   "cell_type": "markdown",
   "id": "9f298b4d-980e-4159-a0d3-45df631012f9",
   "metadata": {},
   "source": [
    "### 3. String Reverse: Write a Python function to reverse a given string and return the reversed string."
   ]
  },
  {
   "cell_type": "code",
   "execution_count": 84,
   "id": "a07a2443-3705-466a-aa58-7612c11fc491",
   "metadata": {},
   "outputs": [
    {
     "name": "stdin",
     "output_type": "stream",
     "text": [
      "Enter a string :  apple\n"
     ]
    },
    {
     "name": "stdout",
     "output_type": "stream",
     "text": [
      "elppa\n"
     ]
    }
   ],
   "source": [
    "def rev_string(s):\n",
    "    return s[::-1]\n",
    "\n",
    "print(rev_string(input('Enter a string : ')))\n"
   ]
  },
  {
   "cell_type": "markdown",
   "id": "7999061e-938c-4bf6-8757-72b676ef9af4",
   "metadata": {},
   "source": [
    "### 4. Type Conversion: Given a list of integers, write a Python program to convert each element of the list to a string."
   ]
  },
  {
   "cell_type": "code",
   "execution_count": 79,
   "id": "a9ee2c97-ac2b-48cd-95b7-c204f92d276d",
   "metadata": {},
   "outputs": [
    {
     "name": "stdin",
     "output_type": "stream",
     "text": [
      " 34 56 9\n"
     ]
    },
    {
     "name": "stdout",
     "output_type": "stream",
     "text": [
      "Integer list :  [34, 56, 9]\n",
      "String list :  ['34', '56', '9']\n"
     ]
    }
   ],
   "source": [
    "int_list = [int(i) for i in input().split()]\n",
    "\n",
    "print('Integer list : ',int_list)\n",
    "\n",
    "str_list = [str(i) for i in int_list]\n",
    "\n",
    "print('String list : ',str_list)"
   ]
  },
  {
   "cell_type": "markdown",
   "id": "5f141aa5-1323-4654-915d-28f3dc34c32c",
   "metadata": {},
   "source": [
    "### 5. Temperature Converter: Write a Python program that converts a temperature in Celsius to Fahrenheit. Take the Celsius temperature as input from the user."
   ]
  },
  {
   "cell_type": "code",
   "execution_count": 91,
   "id": "913a7995-d016-4d4e-a1ca-53b264f5bb86",
   "metadata": {},
   "outputs": [
    {
     "name": "stdin",
     "output_type": "stream",
     "text": [
      "Enter temperature in Celsius :  38\n"
     ]
    },
    {
     "name": "stdout",
     "output_type": "stream",
     "text": [
      "38.00 Celsius is equivalent to: 100.40 Fahrenheit\n"
     ]
    }
   ],
   "source": [
    "temp_c = int(input('Enter temperature in Celsius : '))\n",
    "temp_f = (temp_c * 1.8) + 32  # formula “F = (C * 9/5) + 32″ for Celsius to Fahrenheit conversion\n",
    "\n",
    "print('%.2f Celsius is equivalent to: %.2f Fahrenheit' % (temp_c, temp_f))"
   ]
  },
  {
   "cell_type": "markdown",
   "id": "9123dee9-8444-497a-9247-c057553de261",
   "metadata": {},
   "source": [
    "### 6. Data Type Checker: Write a Python function that takes a variable as input and returns the data type of the variable as a string (e.g., “int”, “float”, “str”, “list”, etc.)."
   ]
  },
  {
   "cell_type": "code",
   "execution_count": 29,
   "id": "dcb5d135-2bcb-4d77-bfeb-b56717301756",
   "metadata": {},
   "outputs": [
    {
     "name": "stdin",
     "output_type": "stream",
     "text": [
      "Enter a value:  {7,9,6}\n"
     ]
    },
    {
     "name": "stdout",
     "output_type": "stream",
     "text": [
      "You entered: {7,9,6}, which is of type: set\n"
     ]
    }
   ],
   "source": [
    "def get_data_type(variable):\n",
    "    return type(variable).__name__\n",
    "\n",
    "\n",
    "user_input = input(\"Enter a value: \")\n",
    "\n",
    "# Try to evaluate the input to determine its actual type\n",
    "try:\n",
    "    evaluated_input = eval(user_input)\n",
    "except (NameError, SyntaxError):\n",
    "    evaluated_input = user_input  # If eval fails, treat input as a string\n",
    "\n",
    "data_type = get_data_type(evaluated_input)\n",
    "print(f\"You entered: {user_input}, which is of type: {data_type}\")"
   ]
  },
  {
   "cell_type": "markdown",
   "id": "cc3afb23-fec4-4d9f-9440-1fcbbcdb9a71",
   "metadata": {},
   "source": [
    "### 7. String Palindrome: Write a Python function to check if a given string is a palindrome or not."
   ]
  },
  {
   "cell_type": "code",
   "execution_count": 34,
   "id": "16087144-2f02-49f0-8f02-aba1d236d6ba",
   "metadata": {},
   "outputs": [
    {
     "name": "stdin",
     "output_type": "stream",
     "text": [
      "Enter a string :  elle\n"
     ]
    },
    {
     "name": "stdout",
     "output_type": "stream",
     "text": [
      "Its a palindrome. \n"
     ]
    }
   ],
   "source": [
    "def is_palindrome(input_data):\n",
    "    reverse_str=input_data[::-1]\n",
    "    if input_data==reverse_str:\n",
    "        print('Its a palindrome. ')\n",
    "    else:\n",
    "        print('Its not a palindrome. ')\n",
    "\n",
    "is_palindrome(input('Enter a string : '))"
   ]
  },
  {
   "cell_type": "code",
   "execution_count": 40,
   "id": "63ea5ef0-58b3-43f9-ad52-0d4615c4a135",
   "metadata": {},
   "outputs": [
    {
     "name": "stdin",
     "output_type": "stream",
     "text": [
      "Enter a string :  ellle\n"
     ]
    },
    {
     "name": "stdout",
     "output_type": "stream",
     "text": [
      "Palindrome\n"
     ]
    }
   ],
   "source": [
    "def is_palindrome(input_data):\n",
    "    print('Palindrome' if input_data==input_data[::-1] else 'Not Palindrome')\n",
    "\n",
    "is_palindrome(input('Enter a string : '))"
   ]
  },
  {
   "cell_type": "markdown",
   "id": "cd6a74e3-615b-494e-bbd7-a91f7098b063",
   "metadata": {},
   "source": [
    "### 8. String Reversal with Slicing: Write a Python function to reverse a given string using slicing."
   ]
  },
  {
   "cell_type": "code",
   "execution_count": 43,
   "id": "971af158-e94d-4da0-9722-6431e0c11bb3",
   "metadata": {},
   "outputs": [
    {
     "name": "stdin",
     "output_type": "stream",
     "text": [
      "Enter a string :  fuad\n"
     ]
    },
    {
     "name": "stdout",
     "output_type": "stream",
     "text": [
      "dauf\n"
     ]
    }
   ],
   "source": [
    "def reverse_data(user_data):\n",
    "    print(user_data[::-1])\n",
    "\n",
    "reverse_data(input('Enter a string : '))"
   ]
  },
  {
   "cell_type": "markdown",
   "id": "129268c2-544f-456b-add8-22311ecff2fd",
   "metadata": {},
   "source": [
    "### 9. String Concatenation: Write a Python program that takes two strings as input and concatenates them into a single string without using the `+` operator."
   ]
  },
  {
   "cell_type": "code",
   "execution_count": 49,
   "id": "afa54fcc-c7a0-4149-b119-8a5f1924ee6b",
   "metadata": {},
   "outputs": [
    {
     "name": "stdin",
     "output_type": "stream",
     "text": [
      "Enter 1st string :  hello\n",
      "Enter 2nd string :  world\n"
     ]
    },
    {
     "name": "stdout",
     "output_type": "stream",
     "text": [
      "hello world\n"
     ]
    }
   ],
   "source": [
    "first_str = input('Enter 1st string : ')\n",
    "second_str = input('Enter 2nd string : ')\n",
    "\n",
    "print(f'{first_str} {second_str}')"
   ]
  },
  {
   "cell_type": "markdown",
   "id": "ca33552f-3b94-4b87-b867-cbaa2eb4bdf3",
   "metadata": {},
   "source": [
    "### 10. Typecasting Challenge: Given three variables: `a = ‘100’`, `b = 25`, and `c = ‘10.5’`, write a Python program to perform the following operations and print the results: – Convert `a` to an integer and add it to `b`. – Convert `c` to a float and subtract it from the result of the first operation. – Convert the final result to a string and concatenate it with the string ” is the answer.”"
   ]
  },
  {
   "cell_type": "code",
   "execution_count": 52,
   "id": "51dccccc-ada1-49b0-b312-235473dc38c6",
   "metadata": {},
   "outputs": [
    {
     "name": "stdout",
     "output_type": "stream",
     "text": [
      "114.5 is the answer.\n"
     ]
    }
   ],
   "source": [
    "a='100'\n",
    "b=25\n",
    "c='10.5'\n",
    "\n",
    "print(f'{str((int(a)+b)-float(c))} is the answer.')"
   ]
  },
  {
   "cell_type": "markdown",
   "id": "0ea578fc-e19c-4ba0-9c59-6a25ea858f23",
   "metadata": {},
   "source": [
    "### 11. Positive, Negative, or Zero: Write a Python program that takes a number as input and prints whether it is positive, negative, or zero."
   ]
  },
  {
   "cell_type": "code",
   "execution_count": 55,
   "id": "efa55bcc-cdc8-42f5-8234-8c04bd59ac8f",
   "metadata": {},
   "outputs": [
    {
     "ename": "SyntaxError",
     "evalue": "expected 'else' after 'if' expression (1081419383.py, line 3)",
     "output_type": "error",
     "traceback": [
      "\u001b[0;36m  Cell \u001b[0;32mIn[55], line 3\u001b[0;36m\u001b[0m\n\u001b[0;31m    print('positive' if num>0 elif num<0 'negative' else 'zero')\u001b[0m\n\u001b[0m          ^\u001b[0m\n\u001b[0;31mSyntaxError\u001b[0m\u001b[0;31m:\u001b[0m expected 'else' after 'if' expression\n"
     ]
    }
   ],
   "source": [
    "entered_num = input('Enter a number : ')\n",
    "\n",
    "if entered_num>0:\n",
    "    print('positive')\n",
    "elif entered_num<0:\n",
    "    print('negative')\n",
    "else:\n",
    "    print"
   ]
  },
  {
   "cell_type": "code",
   "execution_count": null,
   "id": "f7273208-cbd9-438d-bec2-e86bbe0e195a",
   "metadata": {},
   "outputs": [],
   "source": []
  },
  {
   "cell_type": "code",
   "execution_count": null,
   "id": "c0137121-fb6d-4e4e-994b-45c6981da8ca",
   "metadata": {},
   "outputs": [],
   "source": []
  },
  {
   "cell_type": "code",
   "execution_count": null,
   "id": "c2de2492-50c1-494c-869d-0b11af97b0f0",
   "metadata": {},
   "outputs": [],
   "source": []
  }
 ],
 "metadata": {
  "kernelspec": {
   "display_name": "Python [conda env:base] *",
   "language": "python",
   "name": "conda-base-py"
  },
  "language_info": {
   "codemirror_mode": {
    "name": "ipython",
    "version": 3
   },
   "file_extension": ".py",
   "mimetype": "text/x-python",
   "name": "python",
   "nbconvert_exporter": "python",
   "pygments_lexer": "ipython3",
   "version": "3.12.7"
  }
 },
 "nbformat": 4,
 "nbformat_minor": 5
}
