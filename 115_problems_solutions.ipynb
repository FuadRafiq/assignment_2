{
 "cells": [
  {
   "cell_type": "markdown",
   "id": "bf82ce82-aa71-4841-bc4d-29ead7a5894a",
   "metadata": {},
   "source": [
    "### 1. Variable Swap: Write a Python program to swap the values of two variables without using a temporary variable."
   ]
  },
  {
   "cell_type": "code",
   "execution_count": 2,
   "id": "ed9eb7cd-140e-4213-a757-e66a35cba511",
   "metadata": {},
   "outputs": [
    {
     "name": "stdin",
     "output_type": "stream",
     "text": [
      "Enter 1st value : 10\n",
      "Enter 2nd value : 24\n"
     ]
    },
    {
     "name": "stdout",
     "output_type": "stream",
     "text": [
      "Values before swap : x = 10 y = 24\n",
      "Values after swap : x = 24 y = 10\n"
     ]
    }
   ],
   "source": [
    "x = input('Enter 1st value :')\n",
    "y = input('Enter 2nd value :')\n",
    "\n",
    "print(f'Values before swap : x = {x} y = {y}')\n",
    "\n",
    "x,y = y,x\n",
    "\n",
    "print(f'Values after swap : x = {x} y = {y}')"
   ]
  },
  {
   "cell_type": "markdown",
   "id": "d6b5357f-603d-4460-b802-e8d8584c2cc6",
   "metadata": {},
   "source": [
    "### 2. Even or Odd: Write a Python program that takes an integer as input and prints whether it is even or odd."
   ]
  },
  {
   "cell_type": "code",
   "execution_count": 4,
   "id": "6e3de6bf-ef59-4766-9cfb-0e8c853c18ae",
   "metadata": {},
   "outputs": [
    {
     "name": "stdin",
     "output_type": "stream",
     "text": [
      "Enter a number :  7\n"
     ]
    },
    {
     "name": "stdout",
     "output_type": "stream",
     "text": [
      "odd\n"
     ]
    }
   ],
   "source": [
    "even_odd = int(input('Enter a number : '))\n",
    "\n",
    "if (even_odd%2==0):\n",
    "    print('even')\n",
    "else:\n",
    "    print('odd')\n",
    "    \n",
    "#print('Even' if even_odd % 2 == 0 else 'Odd')"
   ]
  },
  {
   "cell_type": "markdown",
   "id": "9f298b4d-980e-4159-a0d3-45df631012f9",
   "metadata": {},
   "source": [
    "### 3. String Reverse: Write a Python function to reverse a given string and return the reversed string."
   ]
  },
  {
   "cell_type": "code",
   "execution_count": 6,
   "id": "a07a2443-3705-466a-aa58-7612c11fc491",
   "metadata": {},
   "outputs": [
    {
     "name": "stdin",
     "output_type": "stream",
     "text": [
      "Enter a string :  Fuad\n"
     ]
    },
    {
     "name": "stdout",
     "output_type": "stream",
     "text": [
      "dauF\n"
     ]
    }
   ],
   "source": [
    "def rev_string(s):\n",
    "    return s[::-1]\n",
    "\n",
    "print(rev_string(input('Enter a string : ')))\n"
   ]
  },
  {
   "cell_type": "markdown",
   "id": "7999061e-938c-4bf6-8757-72b676ef9af4",
   "metadata": {},
   "source": [
    "### 4. Type Conversion: Given a list of integers, write a Python program to convert each element of the list to a string."
   ]
  },
  {
   "cell_type": "code",
   "execution_count": 8,
   "id": "a9ee2c97-ac2b-48cd-95b7-c204f92d276d",
   "metadata": {},
   "outputs": [
    {
     "name": "stdin",
     "output_type": "stream",
     "text": [
      " 12 67 9 8\n"
     ]
    },
    {
     "name": "stdout",
     "output_type": "stream",
     "text": [
      "Integer list :  [12, 67, 9, 8]\n",
      "String list :  ['12', '67', '9', '8']\n"
     ]
    }
   ],
   "source": [
    "int_list = [int(i) for i in input().split()]\n",
    "\n",
    "print('Integer list : ',int_list)\n",
    "\n",
    "str_list = [str(i) for i in int_list]\n",
    "\n",
    "print('String list : ',str_list)"
   ]
  },
  {
   "cell_type": "markdown",
   "id": "5f141aa5-1323-4654-915d-28f3dc34c32c",
   "metadata": {},
   "source": [
    "### 5. Temperature Converter: Write a Python program that converts a temperature in Celsius to Fahrenheit. Take the Celsius temperature as input from the user."
   ]
  },
  {
   "cell_type": "code",
   "execution_count": 10,
   "id": "913a7995-d016-4d4e-a1ca-53b264f5bb86",
   "metadata": {},
   "outputs": [
    {
     "name": "stdin",
     "output_type": "stream",
     "text": [
      "Enter temperature in Celsius :  39\n"
     ]
    },
    {
     "name": "stdout",
     "output_type": "stream",
     "text": [
      "39.00 Celsius is equivalent to: 102.20 Fahrenheit\n"
     ]
    }
   ],
   "source": [
    "temp_c = int(input('Enter temperature in Celsius : '))\n",
    "temp_f = (temp_c * 1.8) + 32  # formula “F = (C * 9/5) + 32″ for Celsius to Fahrenheit conversion\n",
    "\n",
    "print('%.2f Celsius is equivalent to: %.2f Fahrenheit' % (temp_c, temp_f))"
   ]
  },
  {
   "cell_type": "markdown",
   "id": "9123dee9-8444-497a-9247-c057553de261",
   "metadata": {},
   "source": [
    "### 6. Data Type Checker: Write a Python function that takes a variable as input and returns the data type of the variable as a string (e.g., “int”, “float”, “str”, “list”, etc.)."
   ]
  },
  {
   "cell_type": "code",
   "execution_count": 12,
   "id": "dcb5d135-2bcb-4d77-bfeb-b56717301756",
   "metadata": {},
   "outputs": [
    {
     "name": "stdin",
     "output_type": "stream",
     "text": [
      "Enter a value:  56.9\n"
     ]
    },
    {
     "name": "stdout",
     "output_type": "stream",
     "text": [
      "You entered: 56.9, which is of type: float\n"
     ]
    }
   ],
   "source": [
    "def get_data_type(variable):\n",
    "    return type(variable).__name__\n",
    "\n",
    "\n",
    "user_input = input(\"Enter a value: \")\n",
    "\n",
    "# Try to evaluate the input to determine its actual type\n",
    "try:\n",
    "    evaluated_input = eval(user_input)\n",
    "except (NameError, SyntaxError):\n",
    "    evaluated_input = user_input  # If eval fails, treat input as a string\n",
    "\n",
    "data_type = get_data_type(evaluated_input)\n",
    "print(f\"You entered: {user_input}, which is of type: {data_type}\")"
   ]
  },
  {
   "cell_type": "markdown",
   "id": "cc3afb23-fec4-4d9f-9440-1fcbbcdb9a71",
   "metadata": {},
   "source": [
    "### 7. String Palindrome: Write a Python function to check if a given string is a palindrome or not."
   ]
  },
  {
   "cell_type": "code",
   "execution_count": 14,
   "id": "16087144-2f02-49f0-8f02-aba1d236d6ba",
   "metadata": {},
   "outputs": [
    {
     "name": "stdin",
     "output_type": "stream",
     "text": [
      "Enter a string :  radar\n"
     ]
    },
    {
     "name": "stdout",
     "output_type": "stream",
     "text": [
      "Its a palindrome. \n"
     ]
    }
   ],
   "source": [
    "def is_palindrome(input_data):\n",
    "    reverse_str=input_data[::-1]\n",
    "    if input_data==reverse_str:\n",
    "        print('Its a palindrome. ')\n",
    "    else:\n",
    "        print('Its not a palindrome. ')\n",
    "\n",
    "is_palindrome(input('Enter a string : '))"
   ]
  },
  {
   "cell_type": "code",
   "execution_count": 15,
   "id": "63ea5ef0-58b3-43f9-ad52-0d4615c4a135",
   "metadata": {},
   "outputs": [
    {
     "name": "stdin",
     "output_type": "stream",
     "text": [
      "Enter a string :  level\n"
     ]
    },
    {
     "name": "stdout",
     "output_type": "stream",
     "text": [
      "Palindrome\n"
     ]
    }
   ],
   "source": [
    "def is_palindrome(input_data):\n",
    "    print('Palindrome' if input_data==input_data[::-1] else 'Not Palindrome')\n",
    "\n",
    "is_palindrome(input('Enter a string : '))"
   ]
  },
  {
   "cell_type": "markdown",
   "id": "cd6a74e3-615b-494e-bbd7-a91f7098b063",
   "metadata": {},
   "source": [
    "### 8. String Reversal with Slicing: Write a Python function to reverse a given string using slicing."
   ]
  },
  {
   "cell_type": "code",
   "execution_count": 17,
   "id": "971af158-e94d-4da0-9722-6431e0c11bb3",
   "metadata": {},
   "outputs": [
    {
     "name": "stdin",
     "output_type": "stream",
     "text": [
      "Enter a string :  Hello World\n"
     ]
    },
    {
     "name": "stdout",
     "output_type": "stream",
     "text": [
      "dlroW olleH\n"
     ]
    }
   ],
   "source": [
    "def reverse_data(user_data):\n",
    "    print(user_data[::-1])\n",
    "\n",
    "reverse_data(input('Enter a string : '))"
   ]
  },
  {
   "cell_type": "markdown",
   "id": "129268c2-544f-456b-add8-22311ecff2fd",
   "metadata": {},
   "source": [
    "### 9. String Concatenation: Write a Python program that takes two strings as input and concatenates them into a single string without using the `+` operator."
   ]
  },
  {
   "cell_type": "code",
   "execution_count": 19,
   "id": "afa54fcc-c7a0-4149-b119-8a5f1924ee6b",
   "metadata": {},
   "outputs": [
    {
     "name": "stdin",
     "output_type": "stream",
     "text": [
      "Enter 1st string :  Hello Earth!\n",
      "Enter 2nd string :  This is Fuad from Mars\n"
     ]
    },
    {
     "name": "stdout",
     "output_type": "stream",
     "text": [
      "Hello Earth! This is Fuad from Mars\n"
     ]
    }
   ],
   "source": [
    "first_str = input('Enter 1st string : ')\n",
    "second_str = input('Enter 2nd string : ')\n",
    "\n",
    "print(f'{first_str} {second_str}')"
   ]
  },
  {
   "cell_type": "markdown",
   "id": "ca33552f-3b94-4b87-b867-cbaa2eb4bdf3",
   "metadata": {},
   "source": [
    "### 10. Typecasting Challenge: Given three variables: `a = ‘100’`, `b = 25`, and `c = ‘10.5’`, write a Python program to perform the following operations and print the results: – Convert `a` to an integer and add it to `b`. – Convert `c` to a float and subtract it from the result of the first operation. – Convert the final result to a string and concatenate it with the string ” is the answer.”"
   ]
  },
  {
   "cell_type": "code",
   "execution_count": 21,
   "id": "51dccccc-ada1-49b0-b312-235473dc38c6",
   "metadata": {},
   "outputs": [
    {
     "name": "stdout",
     "output_type": "stream",
     "text": [
      "114.5 is the answer.\n"
     ]
    }
   ],
   "source": [
    "a='100'\n",
    "b=25\n",
    "c='10.5'\n",
    "\n",
    "print(f'{str((int(a)+b)-float(c))} is the answer.')"
   ]
  },
  {
   "cell_type": "markdown",
   "id": "0ea578fc-e19c-4ba0-9c59-6a25ea858f23",
   "metadata": {},
   "source": [
    "### 11. Positive, Negative, or Zero: Write a Python program that takes a number as input and prints whether it is positive, negative, or zero."
   ]
  },
  {
   "cell_type": "code",
   "execution_count": 23,
   "id": "efa55bcc-cdc8-42f5-8234-8c04bd59ac8f",
   "metadata": {},
   "outputs": [
    {
     "name": "stdin",
     "output_type": "stream",
     "text": [
      "Enter a number :  0\n"
     ]
    },
    {
     "name": "stdout",
     "output_type": "stream",
     "text": [
      "zero\n"
     ]
    }
   ],
   "source": [
    "entered_num = int(input('Enter a number : '))\n",
    "\n",
    "if entered_num>0:\n",
    "    print('positive')\n",
    "elif entered_num<0:\n",
    "    print('negative')\n",
    "else:\n",
    "    print('zero')"
   ]
  },
  {
   "cell_type": "markdown",
   "id": "ba6d9311-09b4-4e60-86f5-6a8ccea500ef",
   "metadata": {},
   "source": [
    "### 12. Largest of Three Numbers: Write a Python program that takes three numbers as input and prints the largest among them."
   ]
  },
  {
   "cell_type": "code",
   "execution_count": 25,
   "id": "c0137121-fb6d-4e4e-994b-45c6981da8ca",
   "metadata": {},
   "outputs": [
    {
     "name": "stdin",
     "output_type": "stream",
     "text": [
      "Enter 3 digits\n",
      " 12 -5 34\n"
     ]
    },
    {
     "name": "stdout",
     "output_type": "stream",
     "text": [
      "Largest Number\n",
      " 34.0\n"
     ]
    }
   ],
   "source": [
    "def largest_number(list1):\n",
    "    if list1[0]>=list1[1] and list1[0]>=list1[2]:\n",
    "        print('Largest Number\\n',list1[0])\n",
    "    elif list1[1]>=list1[0] and list1[1]>=list1[2]:\n",
    "        print('Largest Number\\n',list1[1])\n",
    "    else:\n",
    "        print('Largest Number\\n',list1[2])\n",
    "\n",
    "\n",
    "try:\n",
    "    list1 = [float(i) for i in input('Enter 3 digits\\n').split()]\n",
    "    largest_number(list1)\n",
    "except ValueError:\n",
    "    print('Enter valid number')\n",
    "\n",
    "#print('Largest Number\\n',max(list1))\n",
    "\n"
   ]
  },
  {
   "cell_type": "markdown",
   "id": "c136c577-397c-45e8-9ab8-fea7a207c647",
   "metadata": {},
   "source": [
    "### 13. Leap Year Checker: Write a Python program that takes a year as input and determines if it is a leap year or not."
   ]
  },
  {
   "cell_type": "code",
   "execution_count": 44,
   "id": "7d93499e-7926-4df3-aac3-883d740ed9c2",
   "metadata": {},
   "outputs": [
    {
     "name": "stdin",
     "output_type": "stream",
     "text": [
      "Enter year\n",
      " 1980\n"
     ]
    },
    {
     "name": "stdout",
     "output_type": "stream",
     "text": [
      "1980 is a leap year\n"
     ]
    }
   ],
   "source": [
    "def leap_year(year):\n",
    "    \n",
    "    # divided by 100 means century year (ending with 00)\n",
    "    # century year divided by 400 is leap year\n",
    "    if (year % 400 == 0) and (year % 100 == 0):\n",
    "        print(f\"{year} is a leap year\")\n",
    "\n",
    "    # not divided by 100 means not a century year\n",
    "    # year divided by 4 is a leap year\n",
    "    elif (year % 4 ==0) and (year % 100 != 0):\n",
    "        print(f\"{year} is a leap year\")\n",
    "\n",
    "    # if not divided by both 400 (century year) and 4 (not century year)\n",
    "    # year is not leap year\n",
    "    else:\n",
    "        print(f\"{year} is not a leap year\")\n",
    "\n",
    "try:\n",
    "    leap_year(int(input('Enter year\\n')))\n",
    "except ValueError:\n",
    "    print('Enter valid year') "
   ]
  },
  {
   "cell_type": "markdown",
   "id": "44434e47-4b60-483e-81ff-d8cbe03681eb",
   "metadata": {},
   "source": [
    "### 14. Grades Classification: Write a Python program that takes a student’s percentage as input and prints their corresponding grade according to the following criteria: – 90% or above: A+ – 80-89%: A – 70-79%: B – 60-69%: C – Below 60%: Fail"
   ]
  },
  {
   "cell_type": "code",
   "execution_count": 62,
   "id": "61960b0b-59c8-4bd2-b8e0-90cdba4488a4",
   "metadata": {},
   "outputs": [
    {
     "name": "stdin",
     "output_type": "stream",
     "text": [
      "Enter the result in percentage\n",
      " 95\n"
     ]
    },
    {
     "name": "stdout",
     "output_type": "stream",
     "text": [
      "Grade : A+\n"
     ]
    }
   ],
   "source": [
    "def check_result(result):\n",
    "    if result>=90 and result<=100:\n",
    "        print('Grade : A+')\n",
    "    elif result>=80  and result<=89:\n",
    "        print('Grade : A-')\n",
    "    elif result>=70  and result<=79:\n",
    "        print('Grade : B')\n",
    "    elif result>=60  and result<=69:\n",
    "        print('Grade : C')\n",
    "    elif result>=0  and result<=59:\n",
    "        print('Fail')\n",
    "    else:\n",
    "        print('Enter percentage between 0-100')\n",
    "\n",
    "\n",
    "try:\n",
    "    check_result(int(input('Enter the result in percentage\\n')))\n",
    "except ValueError:\n",
    "    print('Enter valid number')"
   ]
  },
  {
   "cell_type": "markdown",
   "id": "8b07c2c8-25ef-47e8-bbcc-4d182faa10c7",
   "metadata": {},
   "source": [
    "### 15. Vowel or Consonant: Write a Python program that takes a single character as input and determines whether it is a vowel or a consonant."
   ]
  },
  {
   "cell_type": "code",
   "execution_count": 75,
   "id": "413b9919-3083-4926-a576-295e5f969718",
   "metadata": {},
   "outputs": [
    {
     "name": "stdin",
     "output_type": "stream",
     "text": [
      "Enter a character q\n"
     ]
    },
    {
     "name": "stdout",
     "output_type": "stream",
     "text": [
      "q is a constant\n"
     ]
    }
   ],
   "source": [
    "vowels = ['a','e','i','o','u','A','E','I','O','U']\n",
    "\n",
    "input_char = input('Enter a character')\n",
    "\n",
    "if input_char in vowels:\n",
    "    print(f\"{input_char} is a vowel.\")\n",
    "else:\n",
    "    print(f\"{input_char} is a constant\")"
   ]
  },
  {
   "cell_type": "markdown",
   "id": "4d5c5585-b370-4b62-a167-9ac216adaab5",
   "metadata": {},
   "source": [
    "### 16. Time Classification: Write a Python program that takes the time in hours (24-hour format) as input and prints “Good Morning”, “Good Afternoon”, “Good Evening”, or “Good Night” based on the time."
   ]
  },
  {
   "cell_type": "code",
   "execution_count": 88,
   "id": "ad96acda-da10-419d-9c30-00071f50c71d",
   "metadata": {},
   "outputs": [
    {
     "name": "stdin",
     "output_type": "stream",
     "text": [
      "Enter the time in hours (0-23):  17\n"
     ]
    },
    {
     "name": "stdout",
     "output_type": "stream",
     "text": [
      "Good Evening\n"
     ]
    }
   ],
   "source": [
    "def time_classification(hour):\n",
    "    if 5 <= hour < 12:\n",
    "        return \"Good Morning\"\n",
    "    elif 12 <= hour < 17:\n",
    "        return \"Good Afternoon\"\n",
    "    elif 17 <= hour < 21:\n",
    "        return \"Good Evening\"\n",
    "    else:\n",
    "        return \"Good Night\"\n",
    "\n",
    "\n",
    "try:\n",
    "    hour = int(input(\"Enter the time in hours (0-23): \"))\n",
    "\n",
    "    if 0 <= hour <= 23:\n",
    "        greeting = time_classification(hour)\n",
    "        print(greeting)\n",
    "    else:\n",
    "        print(\"Please enter a valid hour between 0 and 23.\")\n",
    "except ValueError:\n",
    "    print(\"Invalid input. Please enter an integer value for the hour.\")\n"
   ]
  },
  {
   "cell_type": "markdown",
   "id": "5b867ea0-90c0-42d8-b4bd-61e49318ef5a",
   "metadata": {},
   "source": [
    "### 17. Triangle Type Checker: Write a Python program that takes three sides of a triangle as input and determines whether it forms an equilateral, isosceles, or scalene triangle."
   ]
  },
  {
   "cell_type": "code",
   "execution_count": 97,
   "id": "3ad2d39f-83cd-4521-96a0-b552450aeeb1",
   "metadata": {},
   "outputs": [
    {
     "name": "stdin",
     "output_type": "stream",
     "text": [
      "Enter the length of the first side:  25\n",
      "Enter the length of the second side:  25\n",
      "Enter the length of the third side:  25\n"
     ]
    },
    {
     "name": "stdout",
     "output_type": "stream",
     "text": [
      "The triangle is Equilateral.\n"
     ]
    }
   ],
   "source": [
    "def triangle_type(a, b, c):\n",
    "    if a == b == c:\n",
    "        return \"Equilateral\"\n",
    "    elif a == b or b == c or a == c:\n",
    "        return \"Isosceles\"\n",
    "    else:\n",
    "        return \"Scalene\"\n",
    "\n",
    "try:\n",
    "    a = float(input(\"Enter the length of the first side: \"))\n",
    "    b = float(input(\"Enter the length of the second side: \"))\n",
    "    c = float(input(\"Enter the length of the third side: \"))\n",
    "\n",
    "        \n",
    "    if a + b > c and a + c > b and b + c > a:\n",
    "        triangle = triangle_type(a, b, c)\n",
    "        print(f\"The triangle is {triangle}.\")\n",
    "    else:\n",
    "        print(\"The inputs do not form a valid triangle.\")\n",
    "except ValueError:\n",
    "    print(\"Invalid input. Please enter numeric values for the sides.\")\n"
   ]
  },
  {
   "cell_type": "markdown",
   "id": "a6591d74-6a41-4a9e-a32d-494275101e0b",
   "metadata": {},
   "source": [
    "### 18. Quadratic Equation Solver: Write a Python program that takes the coefficients (a, b, c) of a quadratic equation as input and calculates and prints the real roots (if they exist) or a message indicating the complex roots."
   ]
  },
  {
   "attachments": {
    "3a248d9a-df43-4ae3-a94f-14ff4f5ea451.png": {
     "image/png": "[encoded data removed]"
    }
   },
   "cell_type": "markdown",
   "id": "2fe5f479-5bbf-4daa-9536-3239a3d8cc7a",
   "metadata": {},
   "source": [
    " ![image.png](attachment:3a248d9a-df43-4ae3-a94f-14ff4f5ea451.png)"
   ]
  },
  {
   "cell_type": "code",
   "execution_count": 112,
   "id": "79b51b15-f79d-4e93-b5e0-ac31be572199",
   "metadata": {},
   "outputs": [
    {
     "name": "stdin",
     "output_type": "stream",
     "text": [
      "Enter the coefficient a:  2\n",
      "Enter the coefficient b:  6\n",
      "Enter the coefficient c:  1\n"
     ]
    },
    {
     "name": "stdout",
     "output_type": "stream",
     "text": [
      "The result is: (-0.17712434446770464, -2.8228756555322954)\n"
     ]
    }
   ],
   "source": [
    "import math\n",
    "\n",
    "def solve_quadratic(a, b, c):\n",
    "\n",
    "    if a == 0:\n",
    "        return \"This is not a quadratic equation.\"\n",
    "\n",
    "    discriminant = b**2 - 4*a*c\n",
    "\n",
    "    if discriminant > 0:\n",
    "        root1 = (-b + math.sqrt(discriminant)) / (2 * a)\n",
    "        root2 = (-b - math.sqrt(discriminant)) / (2 * a)\n",
    "        return root1, root2\n",
    "    elif discriminant == 0:\n",
    "        root = -b / (2 * a)\n",
    "        return root, root\n",
    "    else:\n",
    "        real_part = -b / (2 * a)\n",
    "        imaginary_part = math.sqrt(-discriminant) / (2 * a)\n",
    "        return f\"Complex roots: {real_part} ± {imaginary_part}i\"\n",
    "\n",
    "\n",
    "try:\n",
    "    # Take the coefficients of the quadratic equation as input\n",
    "    a = float(input(\"Enter the coefficient a: \"))\n",
    "    b = float(input(\"Enter the coefficient b: \"))\n",
    "    c = float(input(\"Enter the coefficient c: \"))\n",
    "\n",
    "    # Solve the quadratic equation\n",
    "    result = solve_quadratic(a, b, c)\n",
    "    print(f\"The result is: {result}\")\n",
    "except ValueError:\n",
    "    print(\"Invalid input. Please enter numeric values for the coefficients.\")\n"
   ]
  },
  {
   "cell_type": "markdown",
   "id": "0ed038a0-128b-4a83-9503-9fe2782437f4",
   "metadata": {},
   "source": [
    "### 19. Number Ranges: Write a Python program that takes an integer as input and prints whether the number falls within the ranges: 0-50, 51-100, 101-150, or above 150."
   ]
  },
  {
   "cell_type": "code",
   "execution_count": 129,
   "id": "72baada1-0b52-4ffb-bf93-43d831a0007b",
   "metadata": {},
   "outputs": [
    {
     "name": "stdin",
     "output_type": "stream",
     "text": [
      "Enter a integer 55\n"
     ]
    },
    {
     "name": "stdout",
     "output_type": "stream",
     "text": [
      "The data in range 50-100\n"
     ]
    }
   ],
   "source": [
    "def check_data(data):\n",
    "    if 0<= data <=50:\n",
    "        print('The data in range 0-50')\n",
    "    elif 51<= data <=100:\n",
    "        print('The data in range 50-100')\n",
    "    elif 101<= data <=150:\n",
    "        print('The data in range 101-150')\n",
    "    else:\n",
    "        print('The data is above 150')\n",
    "        \n",
    "try:\n",
    "    check_data(int(input('Enter a integer')))\n",
    "except ValueError:\n",
    "    print('Invalid Input')"
   ]
  },
  {
   "cell_type": "markdown",
   "id": "33812b9b-b56a-41a5-aa1e-04059e4d23bb",
   "metadata": {},
   "source": [
    "### 20. Sum of N Numbers: Write a Python program using a for loop to calculate the sum of the first N natural numbers, where N is taken as input from the user."
   ]
  },
  {
   "cell_type": "code",
   "execution_count": 138,
   "id": "06cd0aed-b81d-48f0-b03f-4ef60969d12c",
   "metadata": {},
   "outputs": [
    {
     "name": "stdin",
     "output_type": "stream",
     "text": [
      " 5\n"
     ]
    },
    {
     "name": "stdout",
     "output_type": "stream",
     "text": [
      "15\n"
     ]
    }
   ],
   "source": [
    "n=int(input())\n",
    "total=0\n",
    "for number in range(1,n+1,1):\n",
    "    total += number\n",
    "print(total)"
   ]
  },
  {
   "cell_type": "markdown",
   "id": "968f02aa-c013-4d68-8be5-1c7cf12803f7",
   "metadata": {},
   "source": [
    "### 21. Factorial Calculator: Write a Python program using a while loop to calculate the factorial of a given number N."
   ]
  },
  {
   "cell_type": "code",
   "execution_count": 141,
   "id": "c2de2492-50c1-494c-869d-0b11af97b0f0",
   "metadata": {},
   "outputs": [
    {
     "name": "stdin",
     "output_type": "stream",
     "text": [
      "Enter a number to calculate its factorial:  5\n"
     ]
    },
    {
     "name": "stdout",
     "output_type": "stream",
     "text": [
      "The factorial of 5 is 120\n"
     ]
    }
   ],
   "source": [
    "def factorial(n):\n",
    "    result = 1\n",
    "    while n > 1:\n",
    "        result *= n\n",
    "        n -= 1\n",
    "    return result\n",
    "\n",
    "# Input from the user\n",
    "num = int(input(\"Enter a number to calculate its factorial: \"))\n",
    "\n",
    "# Ensure the number is non-negative\n",
    "if num < 0:\n",
    "    print(\"Factorial is not defined for negative numbers.\")\n",
    "else:\n",
    "    # Calculate and print the factorial\n",
    "    print(f\"The factorial of {num} is {factorial(num)}\")"
   ]
  },
  {
   "cell_type": "markdown",
   "id": "b9c5c3fe-7402-45f6-9198-1f75d2c2f690",
   "metadata": {},
   "source": [
    "### 22. Table of a Number: Write a Python program using a for loop to print the multiplication table of a given number N."
   ]
  },
  {
   "cell_type": "code",
   "execution_count": 144,
   "id": "b4eb4e2b-3390-49d7-9823-2c7a295e4f8d",
   "metadata": {},
   "outputs": [
    {
     "name": "stdin",
     "output_type": "stream",
     "text": [
      "Enter a number to print its multiplication table:  6\n"
     ]
    },
    {
     "name": "stdout",
     "output_type": "stream",
     "text": [
      "6 x 1 = 6\n",
      "6 x 2 = 12\n",
      "6 x 3 = 18\n",
      "6 x 4 = 24\n",
      "6 x 5 = 30\n",
      "6 x 6 = 36\n",
      "6 x 7 = 42\n",
      "6 x 8 = 48\n",
      "6 x 9 = 54\n",
      "6 x 10 = 60\n"
     ]
    }
   ],
   "source": [
    "# Function to print the multiplication table of a number\n",
    "def multiplication_table(n):\n",
    "    for i in range(1, 11):  # Looping from 1 to 10\n",
    "        print(f\"{n} x {i} = {n * i}\")\n",
    "\n",
    "# Input from the user\n",
    "num = int(input(\"Enter a number to print its multiplication table: \"))\n",
    "\n",
    "# Print the multiplication table\n",
    "multiplication_table(num)\n"
   ]
  },
  {
   "cell_type": "markdown",
   "id": "aa81eca5-5f07-4ec0-9e43-9c429c8b005a",
   "metadata": {},
   "source": [
    "### 23. Count Digits in a Number: Write a Python program using a while loop to count the number of digits in a given integer N."
   ]
  },
  {
   "cell_type": "code",
   "execution_count": 17,
   "id": "a6f5b6fa-6752-4105-83b3-087677d34b4e",
   "metadata": {},
   "outputs": [
    {
     "name": "stdin",
     "output_type": "stream",
     "text": [
      "Enter a number :  123\n"
     ]
    },
    {
     "name": "stdout",
     "output_type": "stream",
     "text": [
      "3\n"
     ]
    }
   ],
   "source": [
    "digit = int(input('Enter a number : '))\n",
    "count = 0\n",
    "\n",
    "while digit>0:\n",
    "    digit //=10\n",
    "    count+=1\n",
    "\n",
    "print(count)"
   ]
  },
  {
   "cell_type": "markdown",
   "id": "1edb5a94-f89e-42fb-8610-bb2acf50ceb4",
   "metadata": {},
   "source": [
    "###  24. Fibonacci Sequence: Write a Python program using a for loop to generate the Fibonacci sequence up to a given limit N."
   ]
  },
  {
   "cell_type": "code",
   "execution_count": 22,
   "id": "5e71a506-a155-43e6-b0b1-a1771305aaae",
   "metadata": {},
   "outputs": [
    {
     "name": "stdin",
     "output_type": "stream",
     "text": [
      "Enter the limit of the Fibonacci series :  5\n"
     ]
    },
    {
     "name": "stdout",
     "output_type": "stream",
     "text": [
      "Fibonacci series with 5 elements: [0, 1, 1, 2, 3]\n"
     ]
    }
   ],
   "source": [
    "def fibonacci_with_list(N):\n",
    "    fib_series = [0, 1]\n",
    "    for i in range(2, N):\n",
    "        fib_series.append(fib_series[-1] + fib_series[-2])\n",
    "    return fib_series\n",
    "\n",
    "N = int(input('Enter the limit of the Fibonacci series : '))\n",
    "result = fibonacci_with_list(N)\n",
    "print(f'Fibonacci series with {N} elements: {result}')"
   ]
  },
  {
   "cell_type": "markdown",
   "id": "e6fe7461-7cf6-43c2-877a-da7ebbb32d18",
   "metadata": {},
   "source": [
    "### 25. Sum of Even Numbers: Write a Python program using a while loop to calculate the sum of all even numbers between 1 and N, where N is taken as input from the user."
   ]
  },
  {
   "cell_type": "code",
   "execution_count": 31,
   "id": "b3c6a620-ba6b-4772-b4f9-669beba66600",
   "metadata": {},
   "outputs": [
    {
     "name": "stdin",
     "output_type": "stream",
     "text": [
      "Enter the number for which the sum of even numbers is needed :  11\n"
     ]
    },
    {
     "name": "stdout",
     "output_type": "stream",
     "text": [
      "30\n"
     ]
    }
   ],
   "source": [
    "given_n= int(input('Enter the number for which the sum of even numbers is needed : '))\n",
    "\n",
    "count=1\n",
    "sum_n=0\n",
    "\n",
    "while count<given_n:\n",
    "    if count%2==0:\n",
    "        sum_n+=count\n",
    "    count+=1\n",
    "print(sum_n)\n"
   ]
  },
  {
   "cell_type": "code",
   "execution_count": null,
   "id": "6537af98-d43c-4f50-b114-da352e467fa7",
   "metadata": {},
   "outputs": [],
   "source": []
  },
  {
   "cell_type": "code",
   "execution_count": null,
   "id": "600eef8a-ff22-4a24-b9bb-d7bf2addd41d",
   "metadata": {},
   "outputs": [],
   "source": []
  },
  {
   "cell_type": "code",
   "execution_count": null,
   "id": "bd498b32-cf88-4b61-9378-b79cbc554b82",
   "metadata": {},
   "outputs": [],
   "source": []
  }
 ],
 "metadata": {
  "kernelspec": {
   "display_name": "Python [conda env:base] *",
   "language": "python",
   "name": "conda-base-py"
  },
  "language_info": {
   "codemirror_mode": {
    "name": "ipython",
    "version": 3
   },
   "file_extension": ".py",
   "mimetype": "text/x-python",
   "name": "python",
   "nbconvert_exporter": "python",
   "pygments_lexer": "ipython3",
   "version": "3.12.7"
  }
 },
 "nbformat": 4,
 "nbformat_minor": 5
}
