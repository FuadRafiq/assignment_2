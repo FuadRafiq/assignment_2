{
 "cells": [
  {
   "cell_type": "markdown",
   "id": "bf82ce82-aa71-4841-bc4d-29ead7a5894a",
   "metadata": {},
   "source": [
    "### 1. Variable Swap: Write a Python program to swap the values of two variables without using a temporary variable."
   ]
  },
  {
   "cell_type": "code",
   "execution_count": 8,
   "id": "ed9eb7cd-140e-4213-a757-e66a35cba511",
   "metadata": {},
   "outputs": [
    {
     "name": "stdin",
     "output_type": "stream",
     "text": [
      "Enter 1st value : 23\n",
      "Enter 2nd value : 56\n"
     ]
    },
    {
     "name": "stdout",
     "output_type": "stream",
     "text": [
      "Values before swap : x = 23 y = 56\n",
      "Values after swap : x = 56 y = 23\n"
     ]
    }
   ],
   "source": [
    "x = input('Enter 1st value :')\n",
    "y = input('Enter 2nd value :')\n",
    "\n",
    "print(f'Values before swap : x = {x} y = {y}')\n",
    "\n",
    "x,y = y,x\n",
    "\n",
    "print(f'Values after swap : x = {x} y = {y}')"
   ]
  },
  {
   "cell_type": "markdown",
   "id": "d6b5357f-603d-4460-b802-e8d8584c2cc6",
   "metadata": {},
   "source": [
    "### 2. Even or Odd: Write a Python program that takes an integer as input and prints whether it is even or odd."
   ]
  },
  {
   "cell_type": "code",
   "execution_count": 27,
   "id": "6e3de6bf-ef59-4766-9cfb-0e8c853c18ae",
   "metadata": {},
   "outputs": [
    {
     "name": "stdin",
     "output_type": "stream",
     "text": [
      "Enter a number :  445668\n"
     ]
    },
    {
     "name": "stdout",
     "output_type": "stream",
     "text": [
      "even\n"
     ]
    }
   ],
   "source": [
    "even_odd = int(input('Enter a number : '))\n",
    "\n",
    "if (even_odd%2==0):\n",
    "    print('even')\n",
    "else:\n",
    "    print('odd')"
   ]
  },
  {
   "cell_type": "markdown",
   "id": "9f298b4d-980e-4159-a0d3-45df631012f9",
   "metadata": {},
   "source": [
    "### 3. String Reverse: Write a Python function to reverse a given string and return the reversed string."
   ]
  },
  {
   "cell_type": "code",
   "execution_count": null,
   "id": "a07a2443-3705-466a-aa58-7612c11fc491",
   "metadata": {},
   "outputs": [],
   "source": []
  }
 ],
 "metadata": {
  "kernelspec": {
   "display_name": "Python [conda env:base] *",
   "language": "python",
   "name": "conda-base-py"
  },
  "language_info": {
   "codemirror_mode": {
    "name": "ipython",
    "version": 3
   },
   "file_extension": ".py",
   "mimetype": "text/x-python",
   "name": "python",
   "nbconvert_exporter": "python",
   "pygments_lexer": "ipython3",
   "version": "3.12.7"
  }
 },
 "nbformat": 4,
 "nbformat_minor": 5
}
