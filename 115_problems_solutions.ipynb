{
 "cells": [
  {
   "cell_type": "markdown",
   "id": "bf82ce82-aa71-4841-bc4d-29ead7a5894a",
   "metadata": {},
   "source": [
    "### 1. Variable Swap: Write a Python program to swap the values of two variables without using a temporary variable."
   ]
  },
  {
   "cell_type": "code",
   "execution_count": 8,
   "id": "ed9eb7cd-140e-4213-a757-e66a35cba511",
   "metadata": {},
   "outputs": [
    {
     "name": "stdin",
     "output_type": "stream",
     "text": [
      "Enter 1st value : 23\n",
      "Enter 2nd value : 56\n"
     ]
    },
    {
     "name": "stdout",
     "output_type": "stream",
     "text": [
      "Values before swap : x = 23 y = 56\n",
      "Values after swap : x = 56 y = 23\n"
     ]
    }
   ],
   "source": [
    "x = input('Enter 1st value :')\n",
    "y = input('Enter 2nd value :')\n",
    "\n",
    "print(f'Values before swap : x = {x} y = {y}')\n",
    "\n",
    "x,y = y,x\n",
    "\n",
    "print(f'Values after swap : x = {x} y = {y}')"
   ]
  },
  {
   "cell_type": "markdown",
   "id": "d6b5357f-603d-4460-b802-e8d8584c2cc6",
   "metadata": {},
   "source": [
    "### 2. Even or Odd: Write a Python program that takes an integer as input and prints whether it is even or odd."
   ]
  },
  {
   "cell_type": "code",
   "execution_count": 82,
   "id": "6e3de6bf-ef59-4766-9cfb-0e8c853c18ae",
   "metadata": {},
   "outputs": [
    {
     "name": "stdin",
     "output_type": "stream",
     "text": [
      "Enter a number :  45678\n"
     ]
    },
    {
     "name": "stdout",
     "output_type": "stream",
     "text": [
      "even\n"
     ]
    }
   ],
   "source": [
    "even_odd = int(input('Enter a number : '))\n",
    "\n",
    "if (even_odd%2==0):\n",
    "    print('even')\n",
    "else:\n",
    "    print('odd')\n",
    "    \n",
    "#print('Even' if even_odd % 2 == 0 else 'Odd')"
   ]
  },
  {
   "cell_type": "markdown",
   "id": "9f298b4d-980e-4159-a0d3-45df631012f9",
   "metadata": {},
   "source": [
    "### 3. String Reverse: Write a Python function to reverse a given string and return the reversed string."
   ]
  },
  {
   "cell_type": "code",
   "execution_count": 84,
   "id": "a07a2443-3705-466a-aa58-7612c11fc491",
   "metadata": {},
   "outputs": [
    {
     "name": "stdin",
     "output_type": "stream",
     "text": [
      "Enter a string :  apple\n"
     ]
    },
    {
     "name": "stdout",
     "output_type": "stream",
     "text": [
      "elppa\n"
     ]
    }
   ],
   "source": [
    "def rev_string(s):\n",
    "    return s[::-1]\n",
    "\n",
    "print(rev_string(input('Enter a string : ')))\n"
   ]
  },
  {
   "cell_type": "markdown",
   "id": "7999061e-938c-4bf6-8757-72b676ef9af4",
   "metadata": {},
   "source": [
    "### 4. Type Conversion: Given a list of integers, write a Python program to convert each element of the list to a string."
   ]
  },
  {
   "cell_type": "code",
   "execution_count": 79,
   "id": "a9ee2c97-ac2b-48cd-95b7-c204f92d276d",
   "metadata": {},
   "outputs": [
    {
     "name": "stdin",
     "output_type": "stream",
     "text": [
      " 34 56 9\n"
     ]
    },
    {
     "name": "stdout",
     "output_type": "stream",
     "text": [
      "Integer list :  [34, 56, 9]\n",
      "String list :  ['34', '56', '9']\n"
     ]
    }
   ],
   "source": [
    "int_list = [int(i) for i in input().split()]\n",
    "\n",
    "print('Integer list : ',int_list)\n",
    "\n",
    "str_list = [str(i) for i in int_list]\n",
    "\n",
    "print('String list : ',str_list)"
   ]
  },
  {
   "cell_type": "markdown",
   "id": "5f141aa5-1323-4654-915d-28f3dc34c32c",
   "metadata": {},
   "source": [
    "### 5. Temperature Converter: Write a Python program that converts a temperature in Celsius to Fahrenheit. Take the Celsius temperature as input from the user."
   ]
  },
  {
   "cell_type": "code",
   "execution_count": 91,
   "id": "913a7995-d016-4d4e-a1ca-53b264f5bb86",
   "metadata": {},
   "outputs": [
    {
     "name": "stdin",
     "output_type": "stream",
     "text": [
      "Enter temperature in Celsius :  38\n"
     ]
    },
    {
     "name": "stdout",
     "output_type": "stream",
     "text": [
      "38.00 Celsius is equivalent to: 100.40 Fahrenheit\n"
     ]
    }
   ],
   "source": [
    "temp_c = int(input('Enter temperature in Celsius : '))\n",
    "temp_f = (temp_c * 1.8) + 32  # formula “F = (C * 9/5) + 32″ for Celsius to Fahrenheit conversion\n",
    "\n",
    "print('%.2f Celsius is equivalent to: %.2f Fahrenheit' % (temp_c, temp_f))"
   ]
  },
  {
   "cell_type": "code",
   "execution_count": null,
   "id": "7ac88fa9-da49-4008-99aa-30e019b77cf9",
   "metadata": {},
   "outputs": [],
   "source": []
  }
 ],
 "metadata": {
  "kernelspec": {
   "display_name": "Python [conda env:base] *",
   "language": "python",
   "name": "conda-base-py"
  },
  "language_info": {
   "codemirror_mode": {
    "name": "ipython",
    "version": 3
   },
   "file_extension": ".py",
   "mimetype": "text/x-python",
   "name": "python",
   "nbconvert_exporter": "python",
   "pygments_lexer": "ipython3",
   "version": "3.12.7"
  }
 },
 "nbformat": 4,
 "nbformat_minor": 5
}
