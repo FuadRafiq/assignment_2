{
 "cells": [
  {
   "cell_type": "markdown",
   "id": "bf82ce82-aa71-4841-bc4d-29ead7a5894a",
   "metadata": {},
   "source": [
    "1. Variable Swap: Write a Python program to swap the values of two variables without using a temporary variable."
   ]
  },
  {
   "cell_type": "code",
   "execution_count": 8,
   "id": "ed9eb7cd-140e-4213-a757-e66a35cba511",
   "metadata": {},
   "outputs": [
    {
     "name": "stdin",
     "output_type": "stream",
     "text": [
      "Enter 1st value : 23\n",
      "Enter 2nd value : 56\n"
     ]
    },
    {
     "name": "stdout",
     "output_type": "stream",
     "text": [
      "Values before swap : x = 23 y = 56\n",
      "Values after swap : x = 56 y = 23\n"
     ]
    }
   ],
   "source": [
    "x = input('Enter 1st value :')\n",
    "y = input('Enter 2nd value :')\n",
    "\n",
    "print(f'Values before swap : x = {x} y = {y}')\n",
    "\n",
    "x,y = y,x\n",
    "\n",
    "print(f'Values after swap : x = {x} y = {y}')"
   ]
  },
  {
   "cell_type": "code",
   "execution_count": null,
   "id": "afe42da7-81aa-46f9-ae68-d9d0207713e6",
   "metadata": {},
   "outputs": [],
   "source": []
  }
 ],
 "metadata": {
  "kernelspec": {
   "display_name": "Python [conda env:base] *",
   "language": "python",
   "name": "conda-base-py"
  },
  "language_info": {
   "codemirror_mode": {
    "name": "ipython",
    "version": 3
   },
   "file_extension": ".py",
   "mimetype": "text/x-python",
   "name": "python",
   "nbconvert_exporter": "python",
   "pygments_lexer": "ipython3",
   "version": "3.12.7"
  }
 },
 "nbformat": 4,
 "nbformat_minor": 5
}
